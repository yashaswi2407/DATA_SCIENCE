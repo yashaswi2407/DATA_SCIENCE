{
 "cells": [
  {
   "cell_type": "code",
   "execution_count": 1,
   "metadata": {},
   "outputs": [],
   "source": [
    "import numpy as np\n",
    "import pandas as pd\n",
    "import matplotlib.pyplot as plt"
   ]
  },
  {
   "cell_type": "code",
   "execution_count": 2,
   "metadata": {},
   "outputs": [],
   "source": [
    "#load\n",
    "x=pd.read_csv('Linear_x_Train.csv')\n",
    "y=pd.read_csv('Linear_y_Train.csv')"
   ]
  },
  {
   "cell_type": "code",
   "execution_count": 3,
   "metadata": {},
   "outputs": [
    {
     "data": {
      "image/png": "[encoded data removed]",
      "text/plain": [
       "<Figure size 432x288 with 1 Axes>"
      ]
     },
     "metadata": {
      "needs_background": "light"
     },
     "output_type": "display_data"
    }
   ],
   "source": [
    "#visualize\n",
    "plt.style.use('bmh')\n",
    "plt.scatter(x,y,color='orange')\n",
    "plt.title(\"hardwork vs performance graph\")\n",
    "plt.xlabel(\"hardwork\")\n",
    "plt.ylabel(\"performance\")\n",
    "plt.show()"
   ]
  },
  {
   "cell_type": "code",
   "execution_count": 4,
   "metadata": {},
   "outputs": [
    {
     "data": {
      "text/plain": [
       "((3750, 1), (3750, 1))"
      ]
     },
     "execution_count": 4,
     "metadata": {},
     "output_type": "execute_result"
    }
   ],
   "source": [
    "x.shape,y.shape"
   ]
  },
  {
   "cell_type": "code",
   "execution_count": 5,
   "metadata": {},
   "outputs": [],
   "source": [
    "#convert x and y to numpy arrays\n",
    "x=x.values\n",
    "y=y.values"
   ]
  },
  {
   "cell_type": "code",
   "execution_count": 6,
   "metadata": {},
   "outputs": [],
   "source": [
    "#normalisation\n",
    "u=x.mean()\n",
    "std=x.std()\n",
    "x=(x-u)/std"
   ]
  },
  {
   "cell_type": "code",
   "execution_count": 7,
   "metadata": {},
   "outputs": [
    {
     "name": "stdout",
     "output_type": "stream",
     "text": [
      "[[-0.25352061]\n",
      " [-0.55541377]\n",
      " [ 1.07380656]\n",
      " ...\n",
      " [-0.26950343]\n",
      " [ 1.72730762]\n",
      " [-0.4575866 ]]\n",
      "0.9920801322508517\n"
     ]
    }
   ],
   "source": [
    "print(x)\n",
    "print(std)"
   ]
  },
  {
   "cell_type": "markdown",
   "metadata": {},
   "source": [
    "# Section-2 Linear Regression "
   ]
  },
  {
   "cell_type": "code",
   "execution_count": 8,
   "metadata": {},
   "outputs": [],
   "source": [
    "def hypothesis(x,theta):\n",
    "    #theta=[theta[0],theta[1]]\n",
    "    y_=theta[0]+theta[1]*x\n",
    "    return y_\n",
    "def  gradient(X,Y,theta):\n",
    "    m=X.shape[0]\n",
    "    grad=np.zeros((2,))\n",
    "    for i in range(m):\n",
    "        x=X[i]\n",
    "        y_=hypothesis(x,theta)\n",
    "        y=Y[i]\n",
    "        grad[0]+=(y_-y)\n",
    "        grad[1]+=(y_-y)*x\n",
    "    return grad/m\n",
    "def error(X,Y,theta):\n",
    "    m=X.shape[0]\n",
    "    error=0.0\n",
    "    for i in range(m):\n",
    "        y_=hypothesis(X[i],theta)\n",
    "        error+=(y_-Y[i])**2\n",
    "    return error/m\n",
    "def gradientDescent(X,Y,max_steps=100,learning_rate=0.1):\n",
    "    theta=np.zeros((2,))\n",
    "    error_list=[]\n",
    "    #here what we are doing is checking how the value of theta changes\n",
    "    theta_list=[]\n",
    "    for i in range(max_steps):\n",
    "        #compute grad\n",
    "        grad=gradient(X,Y,theta)\n",
    "        e=error(X,Y,theta)\n",
    "        error_list.append(e)\n",
    "        #update theta\n",
    "        theta[0]=theta[0]-learning_rate*grad[0]\n",
    "        theta[1]=theta[1]-learning_rate*grad[1]\n",
    "        theta_list.append((theta[0],theta[1]))\n",
    "    return theta,error_list,theta_list"
   ]
  },
  {
   "cell_type": "code",
   "execution_count": 9,
   "metadata": {},
   "outputs": [],
   "source": [
    "theta,error_list,theta_list=gradientDescent(x,y)"
   ]
  },
  {
   "cell_type": "code",
   "execution_count": 10,
   "metadata": {},
   "outputs": [
    {
     "data": {
      "text/plain": [
       "(array([ 0.6838508 , 79.90361453]),\n",
       " [(0.06838689680155924, 7.990573694249979),\n",
       "  (0.12993510392296198, 15.182090019074964),\n",
       "  (0.18532849033222443, 21.654454711417454),\n",
       "  (0.23518253810056078, 27.479582934525695),\n",
       "  (0.2800511810920641, 32.72219833532309),\n",
       "  (0.3204329597844162, 37.44055219604077),\n",
       "  (0.35677656060753327, 41.68707067068668),\n",
       "  (0.3894858013483388, 45.508937297867995),\n",
       "  (0.41892411801506385, 48.94861726233117),\n",
       "  (0.4454186030151161, 52.044329230348026),\n",
       "  (0.46926363951516337, 54.83047000156319),\n",
       "  (0.490724172365206, 57.337996695656855),\n",
       "  (0.5100386519302443, 59.594770720341145),\n",
       "  (0.5274216835387786, 61.62586734255701),\n",
       "  (0.5430664119864597, 63.45385430255129),\n",
       "  (0.5571466675893725, 65.09904256654615),\n",
       "  (0.569818897631994, 66.57971200414151),\n",
       "  (0.5812239046703536, 67.91231449797735),\n",
       "  (0.591488411004877, 69.11165674242959),\n",
       "  (0.6007264667059482, 70.19106476243661),\n",
       "  (0.6090407168369123, 71.16253198044294),\n",
       "  (0.6165235419547797, 72.03685247664862),\n",
       "  (0.6232580845608605, 72.82374092323374),\n",
       "  (0.6293191729063334, 73.53194052516035),\n",
       "  (0.634774152417259, 74.1693201668943),\n",
       "  (0.6396836339770917, 74.74296184445484),\n",
       "  (0.6441021673809416, 75.25923935425934),\n",
       "  (0.6480788474444065, 75.72388911308337),\n",
       "  (0.6516578595015246, 76.14207389602501),\n",
       "  (0.6548789703529309, 76.51844020067249),\n",
       "  (0.6577779701191966, 76.85716987485522),\n",
       "  (0.6603870699088358, 77.16202658161967),\n",
       "  (0.662735259719511, 77.43639761770768),\n",
       "  (0.6648486305491186, 77.68333155018689),\n",
       "  (0.6667506642957656, 77.90557208941819),\n",
       "  (0.668462494667748, 78.10558857472634),\n",
       "  (0.6700031420025319, 78.28560341150369),\n",
       "  (0.6713897246038375, 78.4476167646033),\n",
       "  (0.6726376489450125, 78.59342878239295),\n",
       "  (0.6737607808520701, 78.72465959840363),\n",
       "  (0.6747715995684221, 78.84276733281325),\n",
       "  (0.6756813364131389, 78.9490642937819),\n",
       "  (0.676500099573384, 79.0447315586537),\n",
       "  (0.6772369864176042, 79.13083209703831),\n",
       "  (0.6779001845774026, 79.20832258158445),\n",
       "  (0.6784970629212215, 79.27806401767599),\n",
       "  (0.679034253430658, 79.34083131015836),\n",
       "  (0.679517724889151, 79.3973218733925),\n",
       "  (0.6799528492017948, 79.44816338030323),\n",
       "  (0.6803444610831741, 79.49392073652288),\n",
       "  (0.6806969117764154, 79.53510235712056),\n",
       "  (0.6810141174003328, 79.57216581565848),\n",
       "  (0.6812996024618582, 79.60552292834261),\n",
       "  (0.6815565390172312, 79.63554432975833),\n",
       "  (0.6817877819170668, 79.66256359103248),\n",
       "  (0.6819959005269188, 79.68688092617921),\n",
       "  (0.682183207275786, 79.70876652781126),\n",
       "  (0.6823517833497663, 79.72846356928011),\n",
       "  (0.6825035018163484, 79.74619090660208),\n",
       "  (0.6826400484362727, 79.76214551019186),\n",
       "  (0.6827629403942044, 79.77650465342265),\n",
       "  (0.6828735431563429, 79.78942788233036),\n",
       "  (0.6829730856422672, 79.8010587883473),\n",
       "  (0.6830626738795992, 79.81152660376256),\n",
       "  (0.6831433032931981, 79.82094763763628),\n",
       "  (0.683215869765437, 79.82942656812263),\n",
       "  (0.6832811795904523, 79.83705760556035),\n",
       "  (0.6833399584329658, 79.84392553925429),\n",
       "  (0.6833928593912281, 79.85010667957883),\n",
       "  (0.6834404702536638, 79.85566970587092),\n",
       "  (0.6834833200298565, 79.86067642953381),\n",
       "  (0.6835218848284297, 79.86518248083041),\n",
       "  (0.6835565931471458, 79.86923792699734),\n",
       "  (0.68358783063399, 79.87288782854759),\n",
       "  (0.6836159443721496, 79.8761727399428),\n",
       "  (0.6836412467364934, 79.8791291601985),\n",
       "  (0.6836640188644026, 79.88178993842862),\n",
       "  (0.6836845137795211, 79.88418463883573),\n",
       "  (0.6837029592031277, 79.88633986920213),\n",
       "  (0.683719560084374, 79.8882795765319),\n",
       "  (0.6837345008774954, 79.89002531312869),\n",
       "  (0.6837479475913046, 79.8915964760658),\n",
       "  (0.6837600496337329, 79.8930105227092),\n",
       "  (0.6837709414719186, 79.89428316468826),\n",
       "  (0.6837807441262854, 79.89542854246942),\n",
       "  (0.6837895665152157, 79.89645938247246),\n",
       "  (0.6837975066652531, 79.8973871384752),\n",
       "  (0.6838046528002865, 79.89822211887765),\n",
       "  (0.6838110843218166, 79.89897360123987),\n",
       "  (0.6838168726911938, 79.89964993536586),\n",
       "  (0.6838220822236334, 79.90025863607924),\n",
       "  (0.683826770802829, 79.90080646672129),\n",
       "  (0.6838309905241051, 79.90129951429914),\n",
       "  (0.6838347882732534, 79.90174325711921),\n",
       "  (0.6838382062474866, 79.90214262565726),\n",
       "  (0.6838412824242968, 79.90250205734151),\n",
       "  (0.6838440509834258, 79.90282554585734),\n",
       "  (0.6838465426866422, 79.90311668552158),\n",
       "  (0.683848785219537, 79.9033787112194),\n",
       "  (0.683850803499142, 79.90361453434744)])"
      ]
     },
     "execution_count": 10,
     "metadata": {},
     "output_type": "execute_result"
    }
   ],
   "source": [
    "theta,theta_list\n"
   ]
  },
  {
   "cell_type": "code",
   "execution_count": 11,
   "metadata": {},
   "outputs": [
    {
     "data": {
      "text/plain": [
       "[array([6576.35005246]),\n",
       " array([5363.12510257]),\n",
       " array([4380.41289317]),\n",
       " array([3584.41600355]),\n",
       " array([2939.65852295]),\n",
       " array([2417.40496367]),\n",
       " array([1994.37958066]),\n",
       " array([1651.72902041]),\n",
       " array([1374.18206661]),\n",
       " array([1149.36903404]),\n",
       " array([967.27047765]),\n",
       " array([819.77064698]),\n",
       " array([700.29578413]),\n",
       " array([603.52114523]),\n",
       " array([525.13368772]),\n",
       " array([461.63984713]),\n",
       " array([410.20983626]),\n",
       " array([368.55152745]),\n",
       " array([334.80829731]),\n",
       " array([307.47628091]),\n",
       " array([285.33734761]),\n",
       " array([267.40481165]),\n",
       " array([252.87945752]),\n",
       " array([241.11392067]),\n",
       " array([231.58383582]),\n",
       " array([223.8644671]),\n",
       " array([217.61177843]),\n",
       " array([212.54710061]),\n",
       " array([208.44471157]),\n",
       " array([205.12177646]),\n",
       " array([202.43019901]),\n",
       " array([200.25002128]),\n",
       " array([198.48407732]),\n",
       " array([197.05366271]),\n",
       " array([195.89502687]),\n",
       " array([194.95653185]),\n",
       " array([194.19635088]),\n",
       " array([193.58060429]),\n",
       " array([193.08184956]),\n",
       " array([192.67785822]),\n",
       " array([192.35062524]),\n",
       " array([192.08556653]),\n",
       " array([191.87086897]),\n",
       " array([191.69696394]),\n",
       " array([191.55610088]),\n",
       " array([191.44200179]),\n",
       " array([191.34958153]),\n",
       " array([191.27472112]),\n",
       " array([191.21408419]),\n",
       " array([191.16496827]),\n",
       " array([191.12518438]),\n",
       " array([191.09295943]),\n",
       " array([191.06685722]),\n",
       " array([191.04571443]),\n",
       " array([191.02858877]),\n",
       " array([191.01471698]),\n",
       " array([191.00348084]),\n",
       " array([190.99437956]),\n",
       " array([190.98700752]),\n",
       " array([190.98103617]),\n",
       " array([190.97619938]),\n",
       " array([190.97228158]),\n",
       " array([190.96910816]),\n",
       " array([190.96653769]),\n",
       " array([190.96445561]),\n",
       " array([190.96276913]),\n",
       " array([190.96140307]),\n",
       " array([190.96029657]),\n",
       " array([190.9594003]),\n",
       " array([190.95867433]),\n",
       " array([190.95808628]),\n",
       " array([190.95760997]),\n",
       " array([190.95722416]),\n",
       " array([190.95691165]),\n",
       " array([190.95665852]),\n",
       " array([190.95645348]),\n",
       " array([190.9562874]),\n",
       " array([190.95615287]),\n",
       " array([190.95604391]),\n",
       " array([190.95595565]),\n",
       " array([190.95588415]),\n",
       " array([190.95582625]),\n",
       " array([190.95577934]),\n",
       " array([190.95574135]),\n",
       " array([190.95571057]),\n",
       " array([190.95568564]),\n",
       " array([190.95566545]),\n",
       " array([190.9556491]),\n",
       " array([190.95563585]),\n",
       " array([190.95562512]),\n",
       " array([190.95561643]),\n",
       " array([190.95560939]),\n",
       " array([190.95560368]),\n",
       " array([190.95559906]),\n",
       " array([190.95559532]),\n",
       " array([190.95559229]),\n",
       " array([190.95558984]),\n",
       " array([190.95558785]),\n",
       " array([190.95558624]),\n",
       " array([190.95558493])]"
      ]
     },
     "execution_count": 11,
     "metadata": {},
     "output_type": "execute_result"
    }
   ],
   "source": [
    "error_list "
   ]
  },
  {
   "cell_type": "code",
   "execution_count": 12,
   "metadata": {},
   "outputs": [
    {
     "data": {
      "text/plain": [
       "Text(0.5, 1.0, 'reduction of error vs time')"
      ]
     },
     "execution_count": 12,
     "metadata": {},
     "output_type": "execute_result"
    },
    {
     "data": {
      "image/png": "[encoded data removed]",
      "text/plain": [
       "<Figure size 432x288 with 1 Axes>"
      ]
     },
     "metadata": {
      "needs_background": "light"
     },
     "output_type": "display_data"
    }
   ],
   "source": [
    "plt.plot(error_list)\n",
    "plt.title(\"reduction of error vs time\")"
   ]
  },
  {
   "cell_type": "code",
   "execution_count": 13,
   "metadata": {},
   "outputs": [
    {
     "name": "stdout",
     "output_type": "stream",
     "text": [
      "[[-19.5733619 ]\n",
      " [-43.69571729]\n",
      " [ 86.4848761 ]\n",
      " ...\n",
      " [-20.85044708]\n",
      " [138.70197319]\n",
      " [-35.87897262]]\n"
     ]
    }
   ],
   "source": [
    "#prediction and best line\n",
    "y_=hypothesis(x,theta)\n",
    "print(y_)"
   ]
  },
  {
   "cell_type": "code",
   "execution_count": 14,
   "metadata": {},
   "outputs": [
    {
     "data": {
      "image/png": "[encoded data removed]",
      "text/plain": [
       "<Figure size 432x288 with 1 Axes>"
      ]
     },
     "metadata": {
      "needs_background": "light"
     },
     "output_type": "display_data"
    }
   ],
   "source": [
    "#training +prediction\n",
    "plt.scatter(x,y)\n",
    "plt.plot(x,y_,color='orange',label='prediction')\n",
    "plt.legend()\n",
    "plt.show()"
   ]
  },
  {
   "cell_type": "code",
   "execution_count": 19,
   "metadata": {},
   "outputs": [],
   "source": [
    "x_test=pd.read_csv('Linear_X_Test.csv').values\n",
    "y_test=hypothesis(x_test,theta)"
   ]
  },
  {
   "cell_type": "code",
   "execution_count": 20,
   "metadata": {},
   "outputs": [],
   "source": [
    "df=pd.DataFrame(y_test,columns=[\"y\"])\n"
   ]
  },
  {
   "cell_type": "code",
   "execution_count": 21,
   "metadata": {},
   "outputs": [],
   "source": [
    "df.to_csv('y_prediction1.csv',index=False)"
   ]
  },
  {
   "cell_type": "code",
   "execution_count": 22,
   "metadata": {},
   "outputs": [],
   "source": [
    "def r2_score(Y,Y_):\n",
    "    #instead of loop np.sum is recommended bcz it is fast\n",
    "    num=np.sum((Y-Y_)**2)\n",
    "    deno=np.sum((Y-Y.mean())**2)\n",
    "    score=(1- num/deno)\n",
    "    return score*100\n",
    "    "
   ]
  },
  {
   "cell_type": "code",
   "execution_count": 23,
   "metadata": {},
   "outputs": [
    {
     "data": {
      "text/plain": [
       "97.09612226971643"
      ]
     },
     "execution_count": 23,
     "metadata": {},
     "output_type": "execute_result"
    }
   ],
   "source": [
    "r2_score(y,y_)"
   ]
  },
  {
   "cell_type": "code",
   "execution_count": null,
   "metadata": {},
   "outputs": [],
   "source": []
  }
 ],
 "metadata": {
  "kernelspec": {
   "display_name": "Python 3",
   "language": "python",
   "name": "python3"
  },
  "language_info": {
   "codemirror_mode": {
    "name": "ipython",
    "version": 3
   },
   "file_extension": ".py",
   "mimetype": "text/x-python",
   "name": "python",
   "nbconvert_exporter": "python",
   "pygments_lexer": "ipython3",
   "version": "3.7.3"
  }
 },
 "nbformat": 4,
 "nbformat_minor": 2
}
